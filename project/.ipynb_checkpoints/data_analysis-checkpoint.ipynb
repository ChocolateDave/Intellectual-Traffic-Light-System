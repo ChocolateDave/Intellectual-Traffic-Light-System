{
 "cells": [
  {
   "cell_type": "markdown",
   "metadata": {},
   "source": [
    "# <center>文档说明</center>\n",
    "\n",
    "本笔记本文档仅用于测试基于sumo环境的仿真评价结果获取与可视化分析，不作为项目最终成果的一部分。"
   ]
  },
  {
   "cell_type": "code",
   "execution_count": 1,
   "metadata": {},
   "outputs": [],
   "source": [
    "import pandas as pd\n",
    "import matplotlib.pyplot as plt\n",
    "import xml.dom.minidom\n",
    "from xml.dom.minidom import parse"
   ]
  },
  {
   "cell_type": "code",
   "execution_count": 77,
   "metadata": {},
   "outputs": [],
   "source": [
    "file = \"./output/output-tripinfos.xml\"\n",
    "tree = parse(file)\n",
    "collection = tree.documentElement"
   ]
  },
  {
   "cell_type": "code",
   "execution_count": 78,
   "metadata": {},
   "outputs": [],
   "source": [
    "vehinfos = collection.getElementsByTagName(\"tripinfo\")"
   ]
  },
  {
   "cell_type": "code",
   "execution_count": 79,
   "metadata": {},
   "outputs": [],
   "source": [
    "# 结果表格化输出\n",
    "id_, dir_, delay_, wtime_ = [],[],[],[]\n",
    "for veh in vehinfos:\n",
    "    vehid = veh.getAttribute(\"id\")\n",
    "    id_.append(vehid)\n",
    "    dir_.append(vehid[0:2])\n",
    "    delay_.append(float(veh.getAttribute(\"timeLoss\")))\n",
    "    wtime_.append(float(veh.getAttribute(\"waitingTime\")))\n",
    "result = pd.DataFrame({\"id\":id_, \"direction\": dir_, \"delay\": delay_, \"waitingTime\": wtime_})"
   ]
  },
  {
   "cell_type": "code",
   "execution_count": 80,
   "metadata": {},
   "outputs": [
    {
     "data": {
      "text/plain": [
       "69.2"
      ]
     },
     "execution_count": 80,
     "metadata": {},
     "output_type": "execute_result"
    }
   ],
   "source": [
    "delay = result.groupby('direction')['delay'].agg(['mean','count'])\n",
    "wt = result.groupby('direction')['waitingTime'].agg(['mean','count'])\n",
    "round((delay['mean'] * delay['count']).sum() / delay['count'].sum(), 2)"
   ]
  },
  {
   "cell_type": "code",
   "execution_count": 13,
   "metadata": {},
   "outputs": [
    {
     "data": {
      "text/html": [
       "<div>\n",
       "<style scoped>\n",
       "    .dataframe tbody tr th:only-of-type {\n",
       "        vertical-align: middle;\n",
       "    }\n",
       "\n",
       "    .dataframe tbody tr th {\n",
       "        vertical-align: top;\n",
       "    }\n",
       "\n",
       "    .dataframe thead th {\n",
       "        text-align: right;\n",
       "    }\n",
       "</style>\n",
       "<table border=\"1\" class=\"dataframe\">\n",
       "  <thead>\n",
       "    <tr style=\"text-align: right;\">\n",
       "      <th></th>\n",
       "      <th>mean</th>\n",
       "      <th>count</th>\n",
       "    </tr>\n",
       "    <tr>\n",
       "      <th>direction</th>\n",
       "      <th></th>\n",
       "      <th></th>\n",
       "    </tr>\n",
       "  </thead>\n",
       "  <tbody>\n",
       "    <tr>\n",
       "      <th>EN</th>\n",
       "      <td>0.496654</td>\n",
       "      <td>269</td>\n",
       "    </tr>\n",
       "    <tr>\n",
       "      <th>ES</th>\n",
       "      <td>60.014000</td>\n",
       "      <td>300</td>\n",
       "    </tr>\n",
       "    <tr>\n",
       "      <th>EW</th>\n",
       "      <td>51.339338</td>\n",
       "      <td>544</td>\n",
       "    </tr>\n",
       "    <tr>\n",
       "      <th>NE</th>\n",
       "      <td>74.017647</td>\n",
       "      <td>340</td>\n",
       "    </tr>\n",
       "    <tr>\n",
       "      <th>NS</th>\n",
       "      <td>34.185531</td>\n",
       "      <td>622</td>\n",
       "    </tr>\n",
       "    <tr>\n",
       "      <th>NW</th>\n",
       "      <td>32.291824</td>\n",
       "      <td>159</td>\n",
       "    </tr>\n",
       "    <tr>\n",
       "      <th>SE</th>\n",
       "      <td>48.479070</td>\n",
       "      <td>86</td>\n",
       "    </tr>\n",
       "    <tr>\n",
       "      <th>SN</th>\n",
       "      <td>50.421370</td>\n",
       "      <td>365</td>\n",
       "    </tr>\n",
       "    <tr>\n",
       "      <th>SW</th>\n",
       "      <td>61.252381</td>\n",
       "      <td>42</td>\n",
       "    </tr>\n",
       "    <tr>\n",
       "      <th>WE</th>\n",
       "      <td>50.556748</td>\n",
       "      <td>615</td>\n",
       "    </tr>\n",
       "    <tr>\n",
       "      <th>WN</th>\n",
       "      <td>99.253482</td>\n",
       "      <td>359</td>\n",
       "    </tr>\n",
       "    <tr>\n",
       "      <th>WS</th>\n",
       "      <td>41.902703</td>\n",
       "      <td>37</td>\n",
       "    </tr>\n",
       "  </tbody>\n",
       "</table>\n",
       "</div>"
      ],
      "text/plain": [
       "                mean  count\n",
       "direction                  \n",
       "EN          0.496654    269\n",
       "ES         60.014000    300\n",
       "EW         51.339338    544\n",
       "NE         74.017647    340\n",
       "NS         34.185531    622\n",
       "NW         32.291824    159\n",
       "SE         48.479070     86\n",
       "SN         50.421370    365\n",
       "SW         61.252381     42\n",
       "WE         50.556748    615\n",
       "WN         99.253482    359\n",
       "WS         41.902703     37"
      ]
     },
     "execution_count": 13,
     "metadata": {},
     "output_type": "execute_result"
    }
   ],
   "source": [
    "wt"
   ]
  },
  {
   "cell_type": "code",
   "execution_count": 83,
   "metadata": {},
   "outputs": [],
   "source": [
    "# 动态交互获取延误指标\n",
    "import os, sys\n",
    "# Check sumo env\n",
    "if 'SUMO_HOME' in os.environ:\n",
    "     tools = os.path.join(os.environ['SUMO_HOME'], 'tools')\n",
    "     sys.path.append(tools)\n",
    "else:\n",
    "     sys.exit(\"please declare environment variable 'SUMO_HOME'\")\n",
    "import traci\n",
    "seed = 20200720\n",
    "sumoCmd = ['sumo', '-c', './ITLS.sumo.cfg', '--start', '--seed', str(seed), '--quit-on-end']\n",
    "traci.start(sumoCmd, label='training')\n",
    "scenario = traci.getConnection('training')\n",
    "\n",
    "ent_lanes = ['CAEE', 'CAWE', 'JSNE', 'JSSE']\n",
    "\n",
    "while traci.simulation.getTime() <= 60:\n",
    "    traci.simulationStep()\n",
    "\n",
    "delay = dict.fromkeys(ent_lanes, 0)\n",
    "time_series, values = [], []\n",
    "while traci.simulation.getTime() <= 3660:\n",
    "    time = traci.simulation.getTime()\n",
    "    for edge in ent_lanes:\n",
    "        d = 0\n",
    "        for indx in range(1, traci.edge.getLaneNumber(edge)):\n",
    "            lane = edge + '_' + str(indx)\n",
    "            d += 1 - (traci.lane.getLastStepMeanSpeed(lane)/traci.lane.getMaxSpeed(lane))\n",
    "        delay[edge] += d * 0.2 / (traci.edge.getLaneNumber(edge) - 1)\n",
    "    if time % 15 == 0:\n",
    "        time_series.append(time)\n",
    "        values.append(sum(delay.values())/len(delay))\n",
    "        delay = dict.fromkeys(ent_lanes, 0)\n",
    "    traci.simulationStep()\n",
    "\n",
    "traci.close()"
   ]
  },
  {
   "cell_type": "code",
   "execution_count": 73,
   "metadata": {},
   "outputs": [],
   "source": [
    "traci.close()"
   ]
  },
  {
   "cell_type": "code",
   "execution_count": 84,
   "metadata": {},
   "outputs": [
    {
     "data": {
      "image/png": "[encoded data removed]",
      "text/plain": [
       "<Figure size 432x288 with 1 Axes>"
      ]
     },
     "metadata": {
      "needs_background": "light"
     },
     "output_type": "display_data"
    }
   ],
   "source": [
    "plt.plot(time_series, values)\n",
    "plt.grid()"
   ]
  },
  {
   "cell_type": "code",
   "execution_count": 53,
   "metadata": {},
   "outputs": [
    {
     "data": {
      "text/plain": [
       "(array([-14.05  ,   1.4625,  16.975 ,  32.4875,  48.    ]),\n",
       " array([72.88399547, 65.23446125, 65.24159514, 73.68396402, 91.34013476]))"
      ]
     },
     "execution_count": 53,
     "metadata": {},
     "output_type": "execute_result"
    }
   ],
   "source": [
    "import numpy as np\n",
    "\n",
    "A = np.mat(\n",
    "    [\n",
    "        [1, -11.64, (-11.64)**2, -11.64**3],\n",
    "        [1, 3.16, 3.16**2, 3.16**3],\n",
    "        [1, 17.54, 17.54**2, 17.54**3],\n",
    "        [1, 31.50, 31.50**2, 31.50**3]\n",
    "    ]\n",
    ")\n",
    "b = np.mat([75.15, 67.69, 67.08, 73.34]).T\n",
    "c = np.matmul(np.linalg.inv(A), b)\n",
    "\n",
    "x = np.linspace(-14.05, 48.00, 5)\n",
    "y = np.matmul(np.mat([(x+2.41)**0, x-2.41, (x+2.41)**2, (x+2.41)**3]).T, c).T\n",
    "x, np.array(y)[0] -4.08"
   ]
  },
  {
   "cell_type": "code",
   "execution_count": 14,
   "metadata": {
    "scrolled": false
   },
   "outputs": [
    {
     "data": {
      "text/plain": [
       "(array([3.30055565, 3.9506651 , 3.80063984, 3.00050514, 4.05068194,\n",
       "        4.55076613, 3.85064826, 4.25071561, 4.05068194, 4.60077454,\n",
       "        3.9506651 , 4.65078296, 4.20070719, 4.55076613, 5.15086715,\n",
       "        4.45074929, 5.0008419 , 5.05085032, 5.15086715, 4.85081664,\n",
       "        4.70079138, 5.30089241, 4.70079138, 4.95083348, 5.0008419 ,\n",
       "        5.25088399, 5.35090083, 5.8009766 , 5.35090083, 4.30072403,\n",
       "        5.35090083, 5.45091767, 5.10085873, 5.10085873, 5.15086715,\n",
       "        5.0008419 , 5.25088399, 6.45108605, 5.50092609, 5.75096818,\n",
       "        6.30106079, 5.0008419 , 5.20087557, 5.95100186, 6.05101869,\n",
       "        6.10102711, 6.8511534 , 6.00101028, 5.0008419 , 6.95117024,\n",
       "        5.30089241, 6.20104395, 6.05101869, 5.50092609, 6.55110288,\n",
       "        5.05085032, 5.85098502, 5.40090925, 5.10085873, 5.5509345 ,\n",
       "        7.05118707, 6.00101028, 5.65095134, 5.10085873, 4.90082506,\n",
       "        5.45091767, 5.40090925, 5.50092609, 5.65095134, 5.65095134,\n",
       "        5.70095976, 5.30089241, 6.55110288, 5.50092609, 5.5509345 ,\n",
       "        4.90082506, 5.10085873, 4.40074087, 4.45074929, 5.25088399,\n",
       "        4.90082506, 4.60077454, 4.35073245, 3.80063984, 3.9506651 ,\n",
       "        4.30072403, 4.45074929, 4.7507998 , 4.65078296, 4.60077454,\n",
       "        4.40074087, 4.40074087, 3.45058091, 4.30072403, 3.50058933,\n",
       "        4.15069877, 3.90065668, 4.20070719, 3.80063984, 3.35056407]),\n",
       " array([0.9000166 , 0.90201627, 0.90401593, 0.90601559, 0.90801526,\n",
       "        0.91001492, 0.91201458, 0.91401425, 0.91601391, 0.91801357,\n",
       "        0.92001324, 0.9220129 , 0.92401256, 0.92601223, 0.92801189,\n",
       "        0.93001155, 0.93201122, 0.93401088, 0.93601054, 0.9380102 ,\n",
       "        0.94000987, 0.94200953, 0.94400919, 0.94600886, 0.94800852,\n",
       "        0.95000818, 0.95200785, 0.95400751, 0.95600717, 0.95800684,\n",
       "        0.9600065 , 0.96200616, 0.96400583, 0.96600549, 0.96800515,\n",
       "        0.97000482, 0.97200448, 0.97400414, 0.97600381, 0.97800347,\n",
       "        0.98000313, 0.9820028 , 0.98400246, 0.98600212, 0.98800179,\n",
       "        0.99000145, 0.99200111, 0.99400078, 0.99600044, 0.9980001 ,\n",
       "        0.99999977, 1.00199943, 1.00399909, 1.00599876, 1.00799842,\n",
       "        1.00999808, 1.01199775, 1.01399741, 1.01599707, 1.01799674,\n",
       "        1.0199964 , 1.02199606, 1.02399573, 1.02599539, 1.02799505,\n",
       "        1.02999472, 1.03199438, 1.03399404, 1.03599371, 1.03799337,\n",
       "        1.03999303, 1.0419927 , 1.04399236, 1.04599202, 1.04799169,\n",
       "        1.04999135, 1.05199101, 1.05399068, 1.05599034, 1.05799   ,\n",
       "        1.05998967, 1.06198933, 1.06398899, 1.06598866, 1.06798832,\n",
       "        1.06998798, 1.07198765, 1.07398731, 1.07598697, 1.07798664,\n",
       "        1.0799863 , 1.08198596, 1.08398563, 1.08598529, 1.08798495,\n",
       "        1.08998462, 1.09198428, 1.09398394, 1.09598361, 1.09798327,\n",
       "        1.09998293]),\n",
       " <a list of 100 Patch objects>)"
      ]
     },
     "execution_count": 14,
     "metadata": {},
     "output_type": "execute_result"
    },
    {
     "data": {
      "image/png": "[encoded data removed]",
      "text/plain": [
       "<Figure size 432x288 with 1 Axes>"
      ]
     },
     "metadata": {
      "needs_background": "light"
     },
     "output_type": "display_data"
    }
   ],
   "source": [
    "import scipy.stats as stats\n",
    "\n",
    "mu, sigma = 1, 0.1\n",
    "min_, max_ = 0.9, 1.1\n",
    "X = stats.truncnorm((min_-mu)/sigma, (max_-mu)/sigma, loc=mu, scale=sigma)\n",
    "N = stats.norm(loc=mu, scale=sigma)\n",
    "#help(stats.truncnorm)\n",
    "\n",
    "plt.hist(N.rvs(10000), density=True, bins=100)\n",
    "plt.hist(X.rvs(10000), density=True, bins=100)"
   ]
  }
 ],
 "metadata": {
  "kernelspec": {
   "display_name": "Python 3",
   "language": "python",
   "name": "python3"
  },
  "language_info": {
   "codemirror_mode": {
    "name": "ipython",
    "version": 3
   },
   "file_extension": ".py",
   "mimetype": "text/x-python",
   "name": "python",
   "nbconvert_exporter": "python",
   "pygments_lexer": "ipython3",
   "version": "3.7.6"
  }
 },
 "nbformat": 4,
 "nbformat_minor": 4
}
